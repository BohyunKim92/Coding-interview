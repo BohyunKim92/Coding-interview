{
 "cells": [
  {
   "cell_type": "code",
   "execution_count": 7,
   "id": "438593c9-ea4d-4fd8-bc02-42b91e0734c3",
   "metadata": {
    "panel-layout": {
     "height": 0,
     "visible": true,
     "width": 100
    }
   },
   "outputs": [
    {
     "name": "stdout",
     "output_type": "stream",
     "text": [
      "Depth First Search\n"
     ]
    }
   ],
   "source": [
    "print('Depth First Search')"
   ]
  },
  {
   "cell_type": "code",
   "execution_count": 9,
   "id": "9a700bec-446e-4166-b867-30b4ee0b7c25",
   "metadata": {},
   "outputs": [],
   "source": [
    "def explore(g: dict[str, list[str]], visited: set[str], path: list[str], v: str) -> list[str]:\n",
    "    visited.add(v)\n",
    "    path.append(v)\n",
    "    for n in g[v]:\n",
    "        if n not in visited:\n",
    "            explore(g,visited,path,n)\n",
    "    return path\n",
    "\n",
    "def dfs(g: dict[str,list[str]], s: str)-> list[str]:\n",
    "    visited = {}\n",
    "    path = []\n",
    "    return explore(g,visited,path,s)"
   ]
  },
  {
   "cell_type": "code",
   "execution_count": 11,
   "id": "31215828-7441-4da9-a7f4-8b1dfc57b6b5",
   "metadata": {},
   "outputs": [
    {
     "ename": "NameError",
     "evalue": "name 'v' is not defined",
     "output_type": "error",
     "traceback": [
      "\u001b[0;31m---------------------------------------------------------------------------\u001b[0m",
      "\u001b[0;31mNameError\u001b[0m                                 Traceback (most recent call last)",
      "Cell \u001b[0;32mIn[11], line 8\u001b[0m\n\u001b[1;32m      1\u001b[0m g1 \u001b[38;5;241m=\u001b[39m {\n\u001b[1;32m      2\u001b[0m     \u001b[38;5;124m'\u001b[39m\u001b[38;5;124mA\u001b[39m\u001b[38;5;124m'\u001b[39m: [\u001b[38;5;124m'\u001b[39m\u001b[38;5;124mB\u001b[39m\u001b[38;5;124m'\u001b[39m],\n\u001b[1;32m      3\u001b[0m     \u001b[38;5;124m'\u001b[39m\u001b[38;5;124mB\u001b[39m\u001b[38;5;124m'\u001b[39m: [\u001b[38;5;124m'\u001b[39m\u001b[38;5;124mA\u001b[39m\u001b[38;5;124m'\u001b[39m],\n\u001b[0;32m   (...)\u001b[0m\n\u001b[1;32m      6\u001b[0m     \u001b[38;5;124m'\u001b[39m\u001b[38;5;124mE\u001b[39m\u001b[38;5;124m'\u001b[39m: []\n\u001b[1;32m      7\u001b[0m }\n\u001b[0;32m----> 8\u001b[0m \u001b[38;5;28mprint\u001b[39m(dfs(g1,\u001b[38;5;124m'\u001b[39m\u001b[38;5;124mA\u001b[39m\u001b[38;5;124m'\u001b[39m))\n",
      "Cell \u001b[0;32mIn[9], line 12\u001b[0m, in \u001b[0;36mdfs\u001b[0;34m(g, s)\u001b[0m\n\u001b[1;32m     10\u001b[0m visited \u001b[38;5;241m=\u001b[39m {}\n\u001b[1;32m     11\u001b[0m path \u001b[38;5;241m=\u001b[39m []\n\u001b[0;32m---> 12\u001b[0m \u001b[38;5;28;01mreturn\u001b[39;00m explore(g,visited,path,v)\n",
      "\u001b[0;31mNameError\u001b[0m: name 'v' is not defined"
     ]
    }
   ],
   "source": [
    "g1 = {\n",
    "    'A': ['B'],\n",
    "    'B': ['A'],\n",
    "    'C': ['D'],\n",
    "    'D': ['C'],\n",
    "    'E': []\n",
    "}"
   ]
  },
  {
   "cell_type": "code",
   "execution_count": null,
   "id": "a0a71584-1841-4565-b524-b08b77237c9b",
   "metadata": {},
   "outputs": [],
   "source": []
  },
  {
   "cell_type": "code",
   "execution_count": null,
   "id": "c4994fcc-678a-4ff8-aa1a-379bb15e42f8",
   "metadata": {},
   "outputs": [],
   "source": []
  },
  {
   "cell_type": "code",
   "execution_count": null,
   "id": "43404ddb-efec-46a8-9587-6815cb499297",
   "metadata": {},
   "outputs": [],
   "source": []
  },
  {
   "cell_type": "code",
   "execution_count": null,
   "id": "939c1554-bd73-465c-b9ac-9d8066521bda",
   "metadata": {},
   "outputs": [],
   "source": []
  },
  {
   "cell_type": "code",
   "execution_count": null,
   "id": "b131c6d9-4ecf-44f4-886c-1b0bcd447206",
   "metadata": {},
   "outputs": [],
   "source": []
  },
  {
   "cell_type": "code",
   "execution_count": null,
   "id": "5af64502-b68f-4d21-b1a4-dce119ea83f5",
   "metadata": {},
   "outputs": [],
   "source": []
  },
  {
   "cell_type": "code",
   "execution_count": null,
   "id": "26598414-8d6c-497b-b1c1-213c978aee25",
   "metadata": {},
   "outputs": [],
   "source": []
  },
  {
   "cell_type": "code",
   "execution_count": null,
   "id": "19f3dd7d-ba2d-442d-b8e9-59476987c555",
   "metadata": {},
   "outputs": [],
   "source": []
  },
  {
   "cell_type": "code",
   "execution_count": null,
   "id": "315187d8-e3d1-45e5-9307-95f899508e62",
   "metadata": {},
   "outputs": [],
   "source": []
  },
  {
   "cell_type": "code",
   "execution_count": null,
   "id": "05825644-cca4-4b37-981b-b4b3994aa36d",
   "metadata": {},
   "outputs": [],
   "source": []
  },
  {
   "cell_type": "code",
   "execution_count": null,
   "id": "2c9d7041-c327-47b7-843f-e5eb035924b3",
   "metadata": {},
   "outputs": [],
   "source": []
  },
  {
   "cell_type": "code",
   "execution_count": null,
   "id": "7fe24a1b-dd33-4d55-af80-f248a6e2dfac",
   "metadata": {},
   "outputs": [],
   "source": []
  },
  {
   "cell_type": "code",
   "execution_count": null,
   "id": "1ad95f5a-7f41-4470-a470-cc3fa50d35f7",
   "metadata": {},
   "outputs": [],
   "source": []
  },
  {
   "cell_type": "code",
   "execution_count": null,
   "id": "c23f4dcc-7e5b-4437-91ff-d302c399b75b",
   "metadata": {},
   "outputs": [],
   "source": []
  },
  {
   "cell_type": "code",
   "execution_count": null,
   "id": "e559fdbd-3b25-48a0-a1e8-8582e05a80cd",
   "metadata": {},
   "outputs": [],
   "source": []
  },
  {
   "cell_type": "code",
   "execution_count": null,
   "id": "9a0da98c-f744-41ab-83b6-0903a0f9e68d",
   "metadata": {},
   "outputs": [],
   "source": []
  },
  {
   "cell_type": "code",
   "execution_count": null,
   "id": "d9c4e2db-4e9e-4727-9fb7-118c0a595f00",
   "metadata": {},
   "outputs": [],
   "source": []
  },
  {
   "cell_type": "code",
   "execution_count": null,
   "id": "0da89b58-42ed-46a0-a4b5-1906df617579",
   "metadata": {},
   "outputs": [],
   "source": []
  },
  {
   "cell_type": "code",
   "execution_count": null,
   "id": "2e50d136-9304-4153-a264-4d8321cdf94a",
   "metadata": {},
   "outputs": [],
   "source": []
  },
  {
   "cell_type": "code",
   "execution_count": null,
   "id": "0d8ca84b-9ff1-4e93-b101-f9d820e9854d",
   "metadata": {},
   "outputs": [],
   "source": []
  },
  {
   "cell_type": "code",
   "execution_count": null,
   "id": "db6f6b2b-dd41-4e22-b584-bd3ee04a283e",
   "metadata": {},
   "outputs": [],
   "source": []
  },
  {
   "cell_type": "code",
   "execution_count": null,
   "id": "a7d61178-a689-473a-8e4f-9e570d489f8c",
   "metadata": {},
   "outputs": [],
   "source": []
  },
  {
   "cell_type": "code",
   "execution_count": null,
   "id": "853085f8-7b6c-415b-ac35-2b3975261304",
   "metadata": {},
   "outputs": [],
   "source": []
  },
  {
   "cell_type": "code",
   "execution_count": null,
   "id": "7973a463-6cb9-4cac-a37a-d97e646d8dfa",
   "metadata": {},
   "outputs": [],
   "source": []
  },
  {
   "cell_type": "code",
   "execution_count": null,
   "id": "2244acc4-b7c9-46d8-b637-75de9c642705",
   "metadata": {},
   "outputs": [],
   "source": []
  },
  {
   "cell_type": "code",
   "execution_count": null,
   "id": "b8302794-196d-4e77-bd67-96c93d06a893",
   "metadata": {},
   "outputs": [],
   "source": []
  },
  {
   "cell_type": "code",
   "execution_count": null,
   "id": "f597e817-60e8-4709-bc75-4adaaf64d909",
   "metadata": {},
   "outputs": [],
   "source": []
  }
 ],
 "metadata": {
  "kernelspec": {
   "display_name": "Python 3 (ipykernel)",
   "language": "python",
   "name": "python3"
  },
  "language_info": {
   "codemirror_mode": {
    "name": "ipython",
    "version": 3
   },
   "file_extension": ".py",
   "mimetype": "text/x-python",
   "name": "python",
   "nbconvert_exporter": "python",
   "pygments_lexer": "ipython3",
   "version": "3.12.2"
  },
  "panel-cell-order": [
   "438593c9-ea4d-4fd8-bc02-42b91e0734c3"
  ]
 },
 "nbformat": 4,
 "nbformat_minor": 5
}
